{
 "cells": [
  {
   "cell_type": "code",
   "execution_count": 1,
   "metadata": {},
   "outputs": [],
   "source": [
    "import pymongo\n",
    "client = pymongo.MongoClient(\"mongodb://localhost:27017/\")"
   ]
  },
  {
   "cell_type": "code",
   "execution_count": 2,
   "metadata": {},
   "outputs": [],
   "source": [
    "dbDev = client[\"Dev\"]\n",
    "col = dbDev[\"collection\"]"
   ]
  },
  {
   "cell_type": "code",
   "execution_count": 3,
   "metadata": {},
   "outputs": [
    {
     "data": {
      "text/plain": [
       "['Dev',\n",
       " 'admin',\n",
       " 'config',\n",
       " 'database_name',\n",
       " 'developers',\n",
       " 'footballdb',\n",
       " 'ktpd',\n",
       " 'local',\n",
       " 'mydb',\n",
       " 'test_database']"
      ]
     },
     "execution_count": 3,
     "metadata": {},
     "output_type": "execute_result"
    }
   ],
   "source": [
    "client.list_database_names()"
   ]
  },
  {
   "cell_type": "code",
   "execution_count": 4,
   "metadata": {},
   "outputs": [
    {
     "data": {
      "text/plain": [
       "Collection(Database(MongoClient(host=['localhost:27017'], document_class=dict, tz_aware=False, connect=True), 'Dev'), 'collection')"
      ]
     },
     "execution_count": 4,
     "metadata": {},
     "output_type": "execute_result"
    }
   ],
   "source": [
    "col = dbDev[\"collection\"]\n",
    "col\n"
   ]
  },
  {
   "cell_type": "code",
   "execution_count": 5,
   "metadata": {},
   "outputs": [],
   "source": [
    "mydict = { \"name\": \"Dylan\", \"specialty\": \"Backend Developer\"}\n",
    "\n",
    "x = col.insert_one(mydict)"
   ]
  },
  {
   "cell_type": "code",
   "execution_count": 6,
   "metadata": {},
   "outputs": [
    {
     "data": {
      "text/plain": [
       "[{'_id': ObjectId('5ecbf6e6e8a87ab2fb62997a'),\n",
       "  'name': 'Dylan',\n",
       "  'specialty': 'Backend Developer',\n",
       "  'salary': 750},\n",
       " {'_id': ObjectId('5ecc1287e8a87ab2fb629980'),\n",
       "  'name': 'Dylan',\n",
       "  'specialty': 'Backend Developer'},\n",
       " {'_id': ObjectId('5ecfa41cf962b0f3391afa70'),\n",
       "  'name': 'Dylan',\n",
       "  'specialty': 'Backend Developer'}]"
      ]
     },
     "execution_count": 6,
     "metadata": {},
     "output_type": "execute_result"
    }
   ],
   "source": [
    "query = {\"name\": \"Dylan\"}\n",
    "update = {\"$set\":{\"salary\": 750 }}\n",
    "x = col.update_one(query, update)\n",
    "[doc for doc in col.find(query)]"
   ]
  },
  {
   "cell_type": "code",
   "execution_count": 8,
   "metadata": {},
   "outputs": [],
   "source": [
    "workers = \\\n",
    "    [\n",
    "        { \"name\": \"Vasya\", \"specialty\": \"System Administrator\", \"salary\": 750},\n",
    "        { \"name\": \"Artur\", \"specialty\": \"Java Developer\", \"salary\": 750},\n",
    "        { \"name\": \"Sanya\", \"specialty\": \"Software tester\", \"salary\": 750},\n",
    "        { \"name\": \"Vanya\", \"specialty\": \"Python Developer\", \"salary\": 750},\n",
    "        { \"name\": \"Kolya\", \"specialty\": \"Data-scientist\", \"salary\": 750}\n",
    "    ]\n"
   ]
  },
  {
   "cell_type": "code",
   "execution_count": 9,
   "metadata": {},
   "outputs": [
    {
     "data": {
      "text/plain": [
       "[ObjectId('5ecfa43df962b0f3391afa71'),\n",
       " ObjectId('5ecfa43df962b0f3391afa72'),\n",
       " ObjectId('5ecfa43df962b0f3391afa73'),\n",
       " ObjectId('5ecfa43df962b0f3391afa74'),\n",
       " ObjectId('5ecfa43df962b0f3391afa75')]"
      ]
     },
     "execution_count": 9,
     "metadata": {},
     "output_type": "execute_result"
    }
   ],
   "source": [
    "x = col.insert_many(workers)\n",
    "x.inserted_ids"
   ]
  },
  {
   "cell_type": "code",
   "execution_count": 10,
   "metadata": {},
   "outputs": [
    {
     "data": {
      "text/plain": [
       "{'_id': ObjectId('5ecbf6e6e8a87ab2fb62997a'),\n",
       " 'name': 'Dylan',\n",
       " 'specialty': 'Backend Developer',\n",
       " 'salary': 750}"
      ]
     },
     "execution_count": 10,
     "metadata": {},
     "output_type": "execute_result"
    }
   ],
   "source": [
    "col.find_one()"
   ]
  },
  {
   "cell_type": "code",
   "execution_count": 11,
   "metadata": {},
   "outputs": [
    {
     "data": {
      "text/plain": [
       "[{'_id': ObjectId('5ecbf6e6e8a87ab2fb62997a'),\n",
       "  'name': 'Dylan',\n",
       "  'specialty': 'Backend Developer',\n",
       "  'salary': 750},\n",
       " {'_id': ObjectId('5ecbf775e8a87ab2fb62997b'),\n",
       "  'name': 'Vasya',\n",
       "  'specialty': 'System Administrator',\n",
       "  'salary': 750},\n",
       " {'_id': ObjectId('5ecbf775e8a87ab2fb62997c'),\n",
       "  'name': 'Artur',\n",
       "  'specialty': 'Java Developer',\n",
       "  'salary': 750},\n",
       " {'_id': ObjectId('5ecbf775e8a87ab2fb62997d'),\n",
       "  'name': 'Sanya',\n",
       "  'specialty': 'Software tester',\n",
       "  'salary': 750},\n",
       " {'_id': ObjectId('5ecbf775e8a87ab2fb62997f'),\n",
       "  'name': 'Kolya',\n",
       "  'specialty': 'Data-scientist',\n",
       "  'salary': 750},\n",
       " {'_id': ObjectId('5ecc1287e8a87ab2fb629980'),\n",
       "  'name': 'Dylan',\n",
       "  'specialty': 'Backend Developer'},\n",
       " {'_id': ObjectId('5ecc137ee8a87ab2fb629981'),\n",
       "  'name': 'Troy',\n",
       "  'specialty': 'Backend Developer',\n",
       "  'salary': 750},\n",
       " {'_id': ObjectId('5ecc19dde8a87ab2fb629982'),\n",
       "  'name': 'Vasya',\n",
       "  'specialty': 'System Administrator',\n",
       "  'salary': 750},\n",
       " {'_id': ObjectId('5ecc19dde8a87ab2fb629983'),\n",
       "  'name': 'Artur',\n",
       "  'specialty': 'Java Developer',\n",
       "  'salary': 750},\n",
       " {'_id': ObjectId('5ecc19dde8a87ab2fb629984'),\n",
       "  'name': 'Sanya',\n",
       "  'specialty': 'Software tester',\n",
       "  'salary': 750},\n",
       " {'_id': ObjectId('5ecc19dde8a87ab2fb629985'),\n",
       "  'name': 'Vanya',\n",
       "  'specialty': 'Python Developer',\n",
       "  'salary': 750},\n",
       " {'_id': ObjectId('5ecc19dde8a87ab2fb629986'),\n",
       "  'name': 'Kolya',\n",
       "  'specialty': 'Data-scientist',\n",
       "  'salary': 750},\n",
       " {'_id': ObjectId('5ecfa41cf962b0f3391afa70'),\n",
       "  'name': 'Dylan',\n",
       "  'specialty': 'Backend Developer'},\n",
       " {'_id': ObjectId('5ecfa43df962b0f3391afa71'),\n",
       "  'name': 'Vasya',\n",
       "  'specialty': 'System Administrator',\n",
       "  'salary': 750},\n",
       " {'_id': ObjectId('5ecfa43df962b0f3391afa72'),\n",
       "  'name': 'Artur',\n",
       "  'specialty': 'Java Developer',\n",
       "  'salary': 750},\n",
       " {'_id': ObjectId('5ecfa43df962b0f3391afa73'),\n",
       "  'name': 'Sanya',\n",
       "  'specialty': 'Software tester',\n",
       "  'salary': 750},\n",
       " {'_id': ObjectId('5ecfa43df962b0f3391afa74'),\n",
       "  'name': 'Vanya',\n",
       "  'specialty': 'Python Developer',\n",
       "  'salary': 750},\n",
       " {'_id': ObjectId('5ecfa43df962b0f3391afa75'),\n",
       "  'name': 'Kolya',\n",
       "  'specialty': 'Data-scientist',\n",
       "  'salary': 750}]"
      ]
     },
     "execution_count": 11,
     "metadata": {},
     "output_type": "execute_result"
    }
   ],
   "source": [
    "[x for x in col.find()]"
   ]
  },
  {
   "cell_type": "code",
   "execution_count": 12,
   "metadata": {},
   "outputs": [
    {
     "data": {
      "text/plain": [
       "[{'name': 'Dylan', 'specialty': 'Backend Developer', 'salary': 750},\n",
       " {'name': 'Vasya', 'specialty': 'System Administrator', 'salary': 750},\n",
       " {'name': 'Artur', 'specialty': 'Java Developer', 'salary': 750},\n",
       " {'name': 'Sanya', 'specialty': 'Software tester', 'salary': 750},\n",
       " {'name': 'Kolya', 'specialty': 'Data-scientist', 'salary': 750},\n",
       " {'name': 'Dylan', 'specialty': 'Backend Developer'},\n",
       " {'name': 'Troy', 'specialty': 'Backend Developer', 'salary': 750},\n",
       " {'name': 'Vasya', 'specialty': 'System Administrator', 'salary': 750},\n",
       " {'name': 'Artur', 'specialty': 'Java Developer', 'salary': 750},\n",
       " {'name': 'Sanya', 'specialty': 'Software tester', 'salary': 750},\n",
       " {'name': 'Vanya', 'specialty': 'Python Developer', 'salary': 750},\n",
       " {'name': 'Kolya', 'specialty': 'Data-scientist', 'salary': 750},\n",
       " {'name': 'Dylan', 'specialty': 'Backend Developer'},\n",
       " {'name': 'Vasya', 'specialty': 'System Administrator', 'salary': 750},\n",
       " {'name': 'Artur', 'specialty': 'Java Developer', 'salary': 750},\n",
       " {'name': 'Sanya', 'specialty': 'Software tester', 'salary': 750},\n",
       " {'name': 'Vanya', 'specialty': 'Python Developer', 'salary': 750},\n",
       " {'name': 'Kolya', 'specialty': 'Data-scientist', 'salary': 750}]"
      ]
     },
     "execution_count": 12,
     "metadata": {},
     "output_type": "execute_result"
    }
   ],
   "source": [
    "[x for x in col.find({},{\"_id\":0, \"workers\":0})]"
   ]
  },
  {
   "cell_type": "code",
   "execution_count": 13,
   "metadata": {},
   "outputs": [
    {
     "data": {
      "text/plain": [
       "[{'_id': ObjectId('5ecbf6e6e8a87ab2fb62997a'),\n",
       "  'name': 'Dylan',\n",
       "  'specialty': 'Backend Developer',\n",
       "  'salary': 750},\n",
       " {'_id': ObjectId('5ecbf775e8a87ab2fb62997b'),\n",
       "  'name': 'Vasya',\n",
       "  'specialty': 'System Administrator',\n",
       "  'salary': 750},\n",
       " {'_id': ObjectId('5ecbf775e8a87ab2fb62997c'),\n",
       "  'name': 'Artur',\n",
       "  'specialty': 'Java Developer',\n",
       "  'salary': 750},\n",
       " {'_id': ObjectId('5ecbf775e8a87ab2fb62997d'),\n",
       "  'name': 'Sanya',\n",
       "  'specialty': 'Software tester',\n",
       "  'salary': 750},\n",
       " {'_id': ObjectId('5ecbf775e8a87ab2fb62997f'),\n",
       "  'name': 'Kolya',\n",
       "  'specialty': 'Data-scientist',\n",
       "  'salary': 750}]"
      ]
     },
     "execution_count": 13,
     "metadata": {},
     "output_type": "execute_result"
    }
   ],
   "source": [
    "[x for x in col.find().limit(5)]"
   ]
  },
  {
   "cell_type": "code",
   "execution_count": 14,
   "metadata": {},
   "outputs": [
    {
     "data": {
      "text/plain": [
       "[{'_id': ObjectId('5ecbf775e8a87ab2fb62997d'),\n",
       "  'name': 'Sanya',\n",
       "  'specialty': 'Software tester',\n",
       "  'salary': 750},\n",
       " {'_id': ObjectId('5ecc19dde8a87ab2fb629984'),\n",
       "  'name': 'Sanya',\n",
       "  'specialty': 'Software tester',\n",
       "  'salary': 750},\n",
       " {'_id': ObjectId('5ecfa43df962b0f3391afa73'),\n",
       "  'name': 'Sanya',\n",
       "  'specialty': 'Software tester',\n",
       "  'salary': 750}]"
      ]
     },
     "execution_count": 14,
     "metadata": {},
     "output_type": "execute_result"
    }
   ],
   "source": [
    "query = {\"name\": \"Sanya\"}\n",
    "update = {\"$set\":{\"salary\": 750 }}\n",
    "x = col.update_one(query, update)\n",
    "[doc for doc in col.find(query)]"
   ]
  },
  {
   "cell_type": "code",
   "execution_count": 55,
   "metadata": {},
   "outputs": [
    {
     "data": {
      "text/plain": [
       "[{'_id': ObjectId('5ecbf775e8a87ab2fb62997f'),\n",
       "  'name': 'Kolya',\n",
       "  'specialty': 'Data-scientist',\n",
       "  'salary': 750}]"
      ]
     },
     "execution_count": 55,
     "metadata": {},
     "output_type": "execute_result"
    }
   ],
   "source": [
    "query = {\"name\": \"Kolya\"}\n",
    "update = {\"$set\":{\"salary\": 750 }}\n",
    "x = col.update_one(query, update)\n",
    "[doc for doc in col.find(query)]"
   ]
  },
  {
   "cell_type": "code",
   "execution_count": 15,
   "metadata": {},
   "outputs": [
    {
     "data": {
      "text/plain": [
       "[]"
      ]
     },
     "execution_count": 15,
     "metadata": {},
     "output_type": "execute_result"
    }
   ],
   "source": [
    "query = {\"salary\": \"750\"}\n",
    "update = {\"$set\":{\"experience\": 2 }}\n",
    "x = col.update_many(query, update)\n",
    "[doc for doc in col.find(query)]"
   ]
  },
  {
   "cell_type": "code",
   "execution_count": 60,
   "metadata": {},
   "outputs": [
    {
     "data": {
      "text/plain": [
       "[{'_id': ObjectId('5ecbf6e6e8a87ab2fb62997a'),\n",
       "  'name': 'Dylan',\n",
       "  'specialty': 'Backend Developer',\n",
       "  'salary': 750},\n",
       " {'_id': ObjectId('5ecbf775e8a87ab2fb62997b'),\n",
       "  'name': 'Vasya',\n",
       "  'specialty': 'System Administrator',\n",
       "  'salary': 750},\n",
       " {'_id': ObjectId('5ecbf775e8a87ab2fb62997c'),\n",
       "  'name': 'Artur',\n",
       "  'specialty': 'Java Developer',\n",
       "  'salary': 750},\n",
       " {'_id': ObjectId('5ecbf775e8a87ab2fb62997d'),\n",
       "  'name': 'Sanya',\n",
       "  'specialty': 'Software tester',\n",
       "  'salary': 750},\n",
       " {'_id': ObjectId('5ecbf775e8a87ab2fb62997e'),\n",
       "  'name': 'Vanya',\n",
       "  'specialty': 'Python Developer',\n",
       "  'salary': 750}]"
      ]
     },
     "execution_count": 60,
     "metadata": {},
     "output_type": "execute_result"
    }
   ],
   "source": [
    "[x for x in col.find().limit(5)]"
   ]
  },
  {
   "cell_type": "code",
   "execution_count": 16,
   "metadata": {},
   "outputs": [],
   "source": [
    "from bson.objectid  import ObjectId  \n",
    "col.find_one({\"_id\": ObjectId('5ecbf775e8a87ab2fb62997e')})\n"
   ]
  },
  {
   "cell_type": "code",
   "execution_count": 17,
   "metadata": {},
   "outputs": [],
   "source": [
    "x = col.delete_one({\"_id\": ObjectId('5ecbf775e8a87ab2fb62997e')})"
   ]
  },
  {
   "cell_type": "code",
   "execution_count": 18,
   "metadata": {
    "scrolled": true
   },
   "outputs": [
    {
     "data": {
      "text/plain": [
       "[{'_id': ObjectId('5ecbf6e6e8a87ab2fb62997a'),\n",
       "  'name': 'Dylan',\n",
       "  'specialty': 'Backend Developer',\n",
       "  'salary': 750},\n",
       " {'_id': ObjectId('5ecbf775e8a87ab2fb62997b'),\n",
       "  'name': 'Vasya',\n",
       "  'specialty': 'System Administrator',\n",
       "  'salary': 750},\n",
       " {'_id': ObjectId('5ecbf775e8a87ab2fb62997c'),\n",
       "  'name': 'Artur',\n",
       "  'specialty': 'Java Developer',\n",
       "  'salary': 750},\n",
       " {'_id': ObjectId('5ecbf775e8a87ab2fb62997d'),\n",
       "  'name': 'Sanya',\n",
       "  'specialty': 'Software tester',\n",
       "  'salary': 750},\n",
       " {'_id': ObjectId('5ecbf775e8a87ab2fb62997f'),\n",
       "  'name': 'Kolya',\n",
       "  'specialty': 'Data-scientist',\n",
       "  'salary': 750},\n",
       " {'_id': ObjectId('5ecc1287e8a87ab2fb629980'),\n",
       "  'name': 'Dylan',\n",
       "  'specialty': 'Backend Developer'},\n",
       " {'_id': ObjectId('5ecc137ee8a87ab2fb629981'),\n",
       "  'name': 'Troy',\n",
       "  'specialty': 'Backend Developer',\n",
       "  'salary': 750},\n",
       " {'_id': ObjectId('5ecc19dde8a87ab2fb629982'),\n",
       "  'name': 'Vasya',\n",
       "  'specialty': 'System Administrator',\n",
       "  'salary': 750},\n",
       " {'_id': ObjectId('5ecc19dde8a87ab2fb629983'),\n",
       "  'name': 'Artur',\n",
       "  'specialty': 'Java Developer',\n",
       "  'salary': 750},\n",
       " {'_id': ObjectId('5ecc19dde8a87ab2fb629984'),\n",
       "  'name': 'Sanya',\n",
       "  'specialty': 'Software tester',\n",
       "  'salary': 750},\n",
       " {'_id': ObjectId('5ecc19dde8a87ab2fb629985'),\n",
       "  'name': 'Vanya',\n",
       "  'specialty': 'Python Developer',\n",
       "  'salary': 750},\n",
       " {'_id': ObjectId('5ecc19dde8a87ab2fb629986'),\n",
       "  'name': 'Kolya',\n",
       "  'specialty': 'Data-scientist',\n",
       "  'salary': 750},\n",
       " {'_id': ObjectId('5ecfa41cf962b0f3391afa70'),\n",
       "  'name': 'Dylan',\n",
       "  'specialty': 'Backend Developer'},\n",
       " {'_id': ObjectId('5ecfa43df962b0f3391afa71'),\n",
       "  'name': 'Vasya',\n",
       "  'specialty': 'System Administrator',\n",
       "  'salary': 750},\n",
       " {'_id': ObjectId('5ecfa43df962b0f3391afa72'),\n",
       "  'name': 'Artur',\n",
       "  'specialty': 'Java Developer',\n",
       "  'salary': 750},\n",
       " {'_id': ObjectId('5ecfa43df962b0f3391afa73'),\n",
       "  'name': 'Sanya',\n",
       "  'specialty': 'Software tester',\n",
       "  'salary': 750},\n",
       " {'_id': ObjectId('5ecfa43df962b0f3391afa74'),\n",
       "  'name': 'Vanya',\n",
       "  'specialty': 'Python Developer',\n",
       "  'salary': 750},\n",
       " {'_id': ObjectId('5ecfa43df962b0f3391afa75'),\n",
       "  'name': 'Kolya',\n",
       "  'specialty': 'Data-scientist',\n",
       "  'salary': 750}]"
      ]
     },
     "execution_count": 18,
     "metadata": {},
     "output_type": "execute_result"
    }
   ],
   "source": [
    "[x for x in col.find()]"
   ]
  },
  {
   "cell_type": "code",
   "execution_count": 19,
   "metadata": {},
   "outputs": [],
   "source": [
    "mydict1 = { \"name\": \"Troy\", \"specialty\": \"Backend Developer\", \"salary\": \"990\"}\n",
    "\n",
    "x = col.insert_one(mydict1)"
   ]
  },
  {
   "cell_type": "code",
   "execution_count": 20,
   "metadata": {},
   "outputs": [],
   "source": [
    "mydictx = { \"name\": \"Joshua\", \"specialty\": \"Frontend Developer\", \"salary\": 690}\n",
    "\n",
    "x = col.insert_one(mydictx)"
   ]
  },
  {
   "cell_type": "code",
   "execution_count": 90,
   "metadata": {},
   "outputs": [
    {
     "data": {
      "text/plain": [
       "[{'_id': ObjectId('5ecc137ee8a87ab2fb629981'),\n",
       "  'name': 'Troy',\n",
       "  'specialty': 'Backend Developer',\n",
       "  'salary': 750}]"
      ]
     },
     "execution_count": 90,
     "metadata": {},
     "output_type": "execute_result"
    }
   ],
   "source": [
    "query = {\"name\": \"Troy\"}\n",
    "update = {\"$set\":{\"salary\": 750 }}\n",
    "x = col.update_one(query, update)\n",
    "[doc for doc in col.find(query)]"
   ]
  },
  {
   "cell_type": "code",
   "execution_count": 21,
   "metadata": {},
   "outputs": [],
   "source": [
    "import pandas as pd\n",
    "\n",
    "df = pd.DataFrame({\n",
    "    'name':['Dylan','Vasya','Artur','Sanya','Kolya','Joshua','Troy'],\n",
    "    'salary':[600,780,220,750,750,690,750],\n",
    "    'specialty':['Backend Developer','System Administrator','Java Developer','Software tester','Data-scientist','Frontend Developer','Backend Developer'],\n",
    "})\n"
   ]
  },
  {
   "cell_type": "code",
   "execution_count": 22,
   "metadata": {},
   "outputs": [
    {
     "data": {
      "image/png": "[encoded data removed]",
      "text/plain": [
       "<Figure size 432x288 with 1 Axes>"
      ]
     },
     "metadata": {
      "needs_background": "light"
     },
     "output_type": "display_data"
    }
   ],
   "source": [
    "import matplotlib.pyplot as plt\n",
    "import pandas as pd\n",
    "plt.plot(df['salary'])\n",
    "plt.show()"
   ]
  },
  {
   "cell_type": "code",
   "execution_count": null,
   "metadata": {},
   "outputs": [],
   "source": []
  }
 ],
 "metadata": {
  "kernelspec": {
   "display_name": "Python 3 (ipykernel)",
   "language": "python",
   "name": "python3"
  },
  "language_info": {
   "codemirror_mode": {
    "name": "ipython",
    "version": 3
   },
   "file_extension": ".py",
   "mimetype": "text/x-python",
   "name": "python",
   "nbconvert_exporter": "python",
   "pygments_lexer": "ipython3",
   "version": "3.11.6"
  }
 },
 "nbformat": 4,
 "nbformat_minor": 4
}
